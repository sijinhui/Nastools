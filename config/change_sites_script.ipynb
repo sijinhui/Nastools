{
 "cells": [
  {
   "cell_type": "code",
   "execution_count": 14,
   "id": "066e389d-2c48-4b0f-8ed2-6631fcc69696",
   "metadata": {},
   "outputs": [],
   "source": [
    "import pickle\n",
    "from collections import OrderedDict"
   ]
  },
  {
   "cell_type": "code",
   "execution_count": 15,
   "id": "5e53b005-d7fd-40cd-b61b-19a460393348",
   "metadata": {},
   "outputs": [],
   "source": [
    "import pathlib"
   ]
  },
  {
   "cell_type": "code",
   "execution_count": 16,
   "id": "65ccf988-9877-4f52-afe1-e758579b4740",
   "metadata": {},
   "outputs": [],
   "source": [
    "from pprint import pprint"
   ]
  },
  {
   "cell_type": "code",
   "execution_count": 17,
   "id": "6fb18451-4a71-411e-bbde-d9788c279e2c",
   "metadata": {},
   "outputs": [],
   "source": [
    "with open('sites.dat', 'rb') as f:\n",
    "    indexs = pickle.load(f)"
   ]
  },
  {
   "cell_type": "code",
   "execution_count": 30,
   "id": "0eb9f949-b033-4ca4-9b30-8a90094c26d8",
   "metadata": {},
   "outputs": [
    {
     "name": "stdout",
     "output_type": "stream",
     "text": [
      "17\n",
      "{'domain': 'https://www.mp4ba.vip/',\n",
      " 'encoding': 'UTF-8',\n",
      " 'id': 'mp4ba',\n",
      " 'name': '高清Mp4吧',\n",
      " 'search': {'paths': [{'path': '?s={keyword}', 'method': 'get'}]},\n",
      " 'torrents': {'list': {'selector': 'div.container > div.mainleft > ul > li'}, 'fields': {'title': {'selector': 'div.article > h2 > a', 'filters': [{'name': 'replace', 'args': ['][', ' ']}, {'name': 'replace', 'args': ['[', '']}, {'name': 'replace', 'args': [']', '']}]}, 'details': {'selector': 'div.article > h2 > a', 'attribute': 'href'}, 'download': {'detail': {'xpath': '//div[@class=\"hacklogdownload_right\"]/a/@href'}}, 'downloadvolumefactor': {'case': {'*': 0}}, 'uploadvolumefactor': {'case': {'*': 1}}}}}\n",
      "\n",
      "//div[@class=\"hacklogdownload_right\"]/a/@href\n"
     ]
    }
   ],
   "source": [
    "for i, _ in enumerate(indexs):\n",
    "    if 'mp4ba' in _['domain']:\n",
    "        print(i)\n",
    "        pprint(dict(_))\n",
    "        print()\n",
    "        print(_['torrents']['fields']['download']['detail']['xpath'])"
   ]
  },
  {
   "cell_type": "code",
   "execution_count": null,
   "id": "6f1a1719-4ec6-4026-83b9-323b17516c70",
   "metadata": {},
   "outputs": [],
   "source": [
    "//div[starts-with(@id, \"hacklog_download_list\")]//div[@class=\"hacklogdownload_box_content\"]//a[@class=\"open_magnet\"]/@href"
   ]
  },
  {
   "cell_type": "code",
   "execution_count": 33,
   "id": "d818bed7-0785-409b-83f2-f790e920d20f",
   "metadata": {},
   "outputs": [],
   "source": [
    "indexs[17]['torrents']['fields']['download']['detail']['xpath'] = '//div[starts-with(@id, \"hacklog_download_list\")]//div[@class=\"hacklogdownload_box_content\"]//a[@class=\"open_magnet\"]/@href'"
   ]
  },
  {
   "cell_type": "code",
   "execution_count": 34,
   "id": "77c8393e-6b85-40ec-aa9d-d674581e1649",
   "metadata": {},
   "outputs": [
    {
     "data": {
      "text/plain": [
       "'//div[starts-with(@id, \"hacklog_download_list\")]//div[@class=\"hacklogdownload_box_content\"]//a[@class=\"open_magnet\"]/@href'"
      ]
     },
     "execution_count": 34,
     "metadata": {},
     "output_type": "execute_result"
    }
   ],
   "source": [
    "indexs[17]['torrents']['fields']['download']['detail']['xpath']"
   ]
  },
  {
   "cell_type": "code",
   "execution_count": 35,
   "id": "d3356f10-0bee-404c-b53e-4a7795db4850",
   "metadata": {},
   "outputs": [],
   "source": [
    "with open('sites.dat', 'wb') as f:\n",
    "    pickle.dump(indexs, f)"
   ]
  },
  {
   "cell_type": "code",
   "execution_count": null,
   "id": "37d07e3b-f66c-4be9-9173-b2b147d032a7",
   "metadata": {},
   "outputs": [],
   "source": []
  }
 ],
 "metadata": {
  "kernelspec": {
   "display_name": "Python 3 (ipykernel)",
   "language": "python",
   "name": "python3"
  },
  "language_info": {
   "codemirror_mode": {
    "name": "ipython",
    "version": 3
   },
   "file_extension": ".py",
   "mimetype": "text/x-python",
   "name": "python",
   "nbconvert_exporter": "python",
   "pygments_lexer": "ipython3",
   "version": "3.12.6"
  }
 },
 "nbformat": 4,
 "nbformat_minor": 5
}
